{
 "cells": [
  {
   "cell_type": "markdown",
   "metadata": {},
   "source": [
    "# Astro 330 \"Computational Astrophysics\"\n",
    "\n",
    "## Homework 1 \n",
    "\n",
    "### Student: Dimitrios Tanoglidis\n"
   ]
  },
  {
   "cell_type": "markdown",
   "metadata": {},
   "source": [
    "### Problem 1. (5 points + 10 extra credit points) Finite differences. \n",
    "\n",
    "Consider a finite difference scheme for the first derivative at a point $x_i$: $$f^\\prime(x)\\approx \\frac{f(x_{i+1})-f(x_{i-1})}{x_{i+1}-x_{i-1}}.$$\n",
    "This scheme is second order-accurate if $x_{i+1}-x_{i}=x_{i}-x_{i-1}={\\rm const}=h$. What is the order of this scheme in the case of non-constant spacing (i.e., $x_{i+1}-x_{i}\\ne x_{i}-x_{i-1}$)? Derive the second order scheme for such a case and comment on what is different compared to the above scheme for constant $h$.\n",
    "Extra credit 10 points: Implement the function\n",
    "def find_difference_scheme(derivative_order, accuracy_order, p):\n",
    "    \"\"\"\n",
    "    Returns an array of the coefficients for an arbitrarily-accurate\n",
    "    finite difference scheme that approximates a derivative of arbitrary\n",
    "    order for a particular location in a point stencil.\n",
    "\n",
    "    derivative_order = integer, \n",
    "                        order of the derivative for which finite difference scheme is to be found\n",
    "\n",
    "    accuracy order = integer, \n",
    "                    order of the leading truncation term of the scheme \n",
    "                    note that number o points in the stencil < derivative_order+accuracy order\n",
    "\n",
    "    p = integer, \n",
    "        the order of the point in the stencil for which scheme is to be found; \n",
    "\n",
    "    \"\"\"\n",
    "\n",
    "### Solution"
   ]
  },
  {
   "cell_type": "markdown",
   "metadata": {},
   "source": [
    "Let:\n",
    "\n",
    "$x_{i+1} - x_i = \\alpha\\quad$  and\n",
    "\n",
    "$x_i - x_{i-1} = \\beta$\n",
    "\n",
    "From now on, for simplicity I drop the index $i$ from $x_i$. From the above we thus have:\n",
    "\n",
    "\\begin{eqnarray}\n",
    "x_{i+1} = x + \\alpha \\quad(1)\\\\ \n",
    "x_{i-1} = x - \\beta  \\quad(2)\n",
    "\\end{eqnarray}\n",
    "\n",
    "\n",
    "Let's Now take the Taylor expansions of $f(x_{i+1})$ and $f(x_{i-1})$. We have:\n",
    "\n",
    "\\begin{eqnarray}\n",
    "f(x_{i+1}) = f(x + \\alpha) = f(x) + \\alpha f'(x) + \\frac{\\alpha^2}{2}f''(x) + \\frac{\\alpha^3}{6}f'''(x)+ \\dots, \\quad(3)\\\\\n",
    "f(x_{i-1}) = f(x - \\beta) = f(x) - \\beta f'(x) + \\frac{\\beta^2}{2}f''(x) - \\frac{\\beta^3}{6}f'''(x)+ \\dots \\quad(4)\n",
    "\\end{eqnarray}\n",
    "\n",
    "Now, subtracting (4) from (3) we get:\n",
    "\n",
    "\\begin{equation}\n",
    "f(x_{i+1}) - f(x_{i-1}) = (\\alpha+\\beta)f'(x) - \\frac{\\alpha^2- \\beta^2}{2}f''(x) + \\frac{\\alpha^3 + \\beta^3}{6}f'''(x) + \\dots (5)\n",
    "\\end{equation}\n",
    "\n",
    "Or:\n",
    "\n",
    "\\begin{equation}\n",
    "f'(x) = \\frac{f(x_{i+1}) - f(x_{i-1})}{ x_{i+1} - x_{i-1}} - \\frac{\\alpha - \\beta}{2}f''(x) -\\frac{1}{6}(\\alpha^2 - \\alpha \\beta + \\beta^2) f'''(x) + \\dots (6)\n",
    "\\end{equation}\n",
    "\n",
    "Where I used the fact (from (1) and (2)) that $x_{i+1} - x_{i-1} = \\alpha + \\beta$.\n",
    "\n",
    "Thus:\n",
    "\n",
    "\\begin{equation}\n",
    "f'(x) = \\frac{f(x_{i+1}) - f(x_{i-1})}{ x_{i+1} - x_{i-1}} + {\\cal{O}}(\\alpha - \\beta) \\quad (7)\n",
    "\\end{equation}\n",
    "\n",
    "So this is scheme is now first order in the difference of $\\alpha$ and $\\beta$, a first-order scheme.\n",
    "\n",
    "Let's now try to construct a $\\mathbf{second\\,\\, order\\,\\, scheme}$.\n",
    "\n",
    "We'll use a method of undetermined coefficients.\n",
    "\n",
    "Suppose that:\n",
    "\\begin{equation}\n",
    "f'(x) = Af(x_{i+1}) + Bf(x) + Cf(x_{i-1}) = Af(x + \\alpha) + Bf(x) + Cf(x - \\beta) \\quad, (8)\n",
    "\\end{equation}\n",
    "\n",
    "where $A,B,C$ unknown coefficients to be determined. Keeping up to second order in the Taylor expansions from eqs. (3) and (4), eq. (8) becomes:\n",
    "\n",
    "\\begin{equation}\n",
    "f'(x) = A \\left[ f(x) + \\alpha f'(x) + \\frac{\\alpha^2}{2}f''(x) \\right] + Bf(x) + C\\left[ f(x) - \\beta f'(x) + \\frac{\\beta^2}{2}f''(x) \\right] \\quad(9).\n",
    "\\end{equation}\n",
    "\n",
    "Collecting terms of the same order in derivatives, we have:\n",
    "\n",
    "\\begin{equation}\n",
    "f'(x) = (A+B+C)f(x) + (A\\alpha - C\\beta)f'(x) + \\frac{1}{2}(A\\alpha^2 + C\\beta^2)f''(x) \\quad(10)\n",
    "\\end{equation}\n",
    "\n",
    "In order (10) to be true, we must have:\n",
    "\\begin{eqnarray}\n",
    "A+B+C = 0 \\quad (11a)\\\\\n",
    "A\\alpha - C\\beta = 1 \\quad (11b)\\\\\n",
    "A\\alpha^2 + C\\beta^2 = 0 \\quad (11c)    \n",
    "\\end{eqnarray}\n",
    "\n",
    "\n",
    "Solving the system $(11a) - (11c)$ for $A,B,C$ we find:\n",
    "\n",
    "\n",
    "\\begin{eqnarray}\n",
    "A = \\frac{\\beta}{\\alpha(\\alpha + \\beta)} \\quad (12a) \\\\\n",
    "B = \\frac{\\alpha - \\beta}{\\alpha \\beta } \\quad (12b) \\\\\n",
    "C = -\\frac{\\alpha}{\\beta ( \\alpha + \\beta)} \\quad (12c)\n",
    "\\end{eqnarray}\n",
    "\n",
    "In the case $\\alpha = \\beta = h$, we have: $A = 1/2h, B = 0 , C= -1/2h$, i.e. we get the familiar result.\n",
    "\n",
    "Let's make a final check that our expression (given by (8) with the coefficients (12)) is indeed of 2nd order, by calculating the next term in the series. Had we kept the $f'''$ terms in (9), we would have one more term:\n",
    "\n",
    "\\begin{equation}\n",
    "I = \\frac{1}{6}(A\\alpha^3 - C\\beta^3)f'''(x)\n",
    "\\end{equation}\n",
    "\n",
    "Using the expressions from (12) for $A$ and $C$, we get:\n",
    "\n",
    "\\begin{equation}\n",
    "I = \\frac{1}{6}\\alpha \\beta \\,f''' (x)\n",
    "\\end{equation}\n",
    "\n",
    "which is a second-order term, Q.E.D."
   ]
  },
  {
   "cell_type": "markdown",
   "metadata": {},
   "source": [
    "### Problem 2. Background.\n",
    "\n",
    "During the first class I discussed several basic root finding algorithms (i.e., finding $x$ such that $f(x)=0$). The algorithms were the bisection method, Newton's method, and the secant method. I showed you the results of calculations using these methods in class. Python routines with my implementations of these methods can be found in the ex01 notebook on github.\n",
    "\n",
    "During class, we saw that the Newton and secant methods are fast, but they can be thrown off. This can happen if iterations result in a point where the derivative $f^\\prime$ is small. Then on the next iteration $x$ may be way outside the original interval.\n",
    "To deal with this, one can devise a hybrid method, in which on each iteration, $n,$ we check whether the secant method provides an acceptable point or not. If not, we use the mid-point of the current interval instead, like in the bisection method.\n",
    "\n",
    "\n",
    "(10 points) Implement a hybrid root finding routine: Implement the function\n",
    "\n",
    "def hybrid_root_find(f, a, b, delta):\n",
    "\n",
    "    \"\"\" Returns the x coordinate of some root of a 1D function within the\n",
    "    interval [a, b] to specified absolute accuracy delta (i.e., |xroot - xroot_true|<=delta). \n",
    "    Uses a combination of the secant and bisection methods.\n",
    "\n",
    "    f - function, the 1D function the the root is being found on.\n",
    "    a - a float giving the inclusive lower bound of the interval for root finding\n",
    "    b - a float giving the inclusive upper bound of the interval for root finding\n",
    "        the root must be located within the interval and this condition is checked on input\n",
    "    delta - A float giving the maximum allowed absolute error in the result.\n",
    "    \"\"\"\n",
    "\n",
    "#### Hints: \n",
    "Here is a more specific description of the scheme: Start with the interval $[a,b]$ enclosing the root and use $x_0=b$ as the starting point. At iteration $n$, use $x_n=b_n$ and the secant method to predict $x_{n+1}$. Compute the midpoint of the current interval, $[a_n,x_n]:$ $x_{ mid,n}=(a_n+x_n)/2$. If $x_{mid,n} \\lt x_{n+1} \\lt x_n$, then accept $x_{n+1}$ as the next edge of the interval, and choose the second edge to be $x_n$ or $a_n$, depending of whether the signs of $f(x_{n+1})$ and $f(x_n$) or $f(x_{n+1})$ and $f(a_n$) are different.\n",
    "Required tests and follow up questions: Find the root of $x^2 - 4x + 1=0$ on the interval $[2,4]$ and compare to the results of the secant method in ex01. Try to find root for different delta values. What is the maximum accuracy you can get with your routine and why?\n",
    "\n",
    "#### Required tests and follow up questions: \n",
    "Find the root of $x^2 - 4x + 1=0$ on the interval $[2,4]$ and compare to the results of the secant method in ex01. Try to find root for different delta values. What is the maximum accuracy you can get with your routine and why?\n",
    "\n",
    "### Solution"
   ]
  },
  {
   "cell_type": "code",
   "execution_count": 26,
   "metadata": {
    "collapsed": false
   },
   "outputs": [],
   "source": [
    "import numpy as np \n",
    "\n",
    "def hybrid_root_find(f, a, b, delta):\n",
    "    \"\"\" Returns the x coordinate of some root of a 1D function within the\n",
    "    interval [a, b] to specified absolute accuracy delta (i.e., |xroot - xroot_true|<=delta). \n",
    "    Uses a combination of the secant and bisection methods.\n",
    "\n",
    "    f - function, the 1D function the the root is being found on.\n",
    "    a - a float giving the inclusive lower bound of the interval for root finding\n",
    "    b - a float giving the inclusive upper bound of the interval for root finding\n",
    "        the root must be located within the interval and this condition is checked on input\n",
    "    delta - A float giving the maximum allowed absolute error in the result.\n",
    "    \"\"\"\n",
    "    \n",
    "    # First of all check that the root is indeed inside the interval [a,b]\n",
    "    if f(a)*f(b)>0:\n",
    "        raise ValueError('Function has the same sign on both ends of the interval: input interval must bracker a root!!')\n",
    "        \n",
    "    #Set a counter for the number of iterations\n",
    "    niter =0\n",
    "    \n",
    "    # x_n is set to be equal to b - the upper limit every time\n",
    "    # lower limit equal to a . So, the comparison is |x_n - a| < delta\n",
    "    \n",
    "    x_n = b\n",
    "    \n",
    "    while f(x_n)!=0.0 and np.abs(x_n - a) > delta:\n",
    "        \n",
    "        x_sec = b - f(x_n)*(x_n-a)/(f(x_n)-f(a))  # Calculates the next point using the secant method \n",
    "        x_mid = (a + x_n)* 0.5 # Calculates the midpoint of the interval\n",
    "        \n",
    "        # Determines which of these is our \"new\" point\n",
    "        if x_mid < x_sec and x_sec < x_n:\n",
    "            x_new = x_sec\n",
    "        else:\n",
    "            x_new = x_mid\n",
    "            \n",
    "        if f(x_new)*f(x_n)< 0:\n",
    "            a = x_n\n",
    "            \n",
    "        b = x_new\n",
    "        \n",
    "        x_n = b\n",
    "        \n",
    "        niter = niter + 1\n",
    "        print(\"iteration no:%.f\" %niter)\n",
    "    return x_new\n",
    "\n",
    "\n",
    "        \n",
    "    \n",
    "    "
   ]
  },
  {
   "cell_type": "code",
   "execution_count": 27,
   "metadata": {
    "collapsed": false
   },
   "outputs": [],
   "source": [
    "def f(x):\n",
    "    func = x**2 -4*x +1\n",
    "    return func"
   ]
  },
  {
   "cell_type": "markdown",
   "metadata": {},
   "source": [
    "Let's now try to find the value of the root using three deltas: $\\delta = 10^{-5},\\, 10^{-10},\\, 10^{-15}$."
   ]
  },
  {
   "cell_type": "code",
   "execution_count": 28,
   "metadata": {
    "collapsed": false
   },
   "outputs": [
    {
     "name": "stdout",
     "output_type": "stream",
     "text": [
      "iteration no:1\n",
      "iteration no:2\n",
      "iteration no:3\n",
      "iteration no:4\n",
      "iteration no:5\n",
      "iteration no:6\n",
      "iteration no:7\n",
      "iteration no:8\n",
      "iteration no:9\n",
      "iteration no:10\n",
      "iteration no:11\n",
      "iteration no:12\n",
      "iteration no:13\n",
      "iteration no:14\n",
      "root is (delta = 1e-5) : 3.732059163328917961\n"
     ]
    }
   ],
   "source": [
    "root_1 = hybrid_root_find(f, 2.0, 4.0, 1e-5)\n",
    "\n",
    "print('root is (delta = 1e-5) : %.18f'%root_1)"
   ]
  },
  {
   "cell_type": "code",
   "execution_count": 29,
   "metadata": {
    "collapsed": false
   },
   "outputs": [
    {
     "name": "stdout",
     "output_type": "stream",
     "text": [
      "iteration no:1\n",
      "iteration no:2\n",
      "iteration no:3\n",
      "iteration no:4\n",
      "iteration no:5\n",
      "iteration no:6\n",
      "iteration no:7\n",
      "iteration no:8\n",
      "iteration no:9\n",
      "iteration no:10\n",
      "iteration no:11\n",
      "iteration no:12\n",
      "iteration no:13\n",
      "iteration no:14\n",
      "iteration no:15\n",
      "iteration no:16\n",
      "iteration no:17\n",
      "iteration no:18\n",
      "iteration no:19\n",
      "iteration no:20\n",
      "iteration no:21\n",
      "iteration no:22\n",
      "iteration no:23\n",
      "iteration no:24\n",
      "iteration no:25\n",
      "iteration no:26\n",
      "iteration no:27\n",
      "iteration no:28\n",
      "iteration no:29\n",
      "iteration no:30\n",
      "root is (delta = 1e-10) : 3.732050807633789269\n"
     ]
    }
   ],
   "source": [
    "root_2 = hybrid_root_find(f, 2.0, 4.0, 1e-10)\n",
    "\n",
    "print('root is (delta = 1e-10) : %.18f'%root_2)"
   ]
  },
  {
   "cell_type": "code",
   "execution_count": 30,
   "metadata": {
    "collapsed": false
   },
   "outputs": [
    {
     "name": "stdout",
     "output_type": "stream",
     "text": [
      "iteration no:1\n",
      "iteration no:2\n",
      "iteration no:3\n",
      "iteration no:4\n",
      "iteration no:5\n",
      "iteration no:6\n",
      "iteration no:7\n",
      "iteration no:8\n",
      "iteration no:9\n",
      "iteration no:10\n",
      "iteration no:11\n",
      "iteration no:12\n",
      "iteration no:13\n",
      "iteration no:14\n",
      "iteration no:15\n",
      "iteration no:16\n",
      "iteration no:17\n",
      "iteration no:18\n",
      "iteration no:19\n",
      "iteration no:20\n",
      "iteration no:21\n",
      "iteration no:22\n",
      "iteration no:23\n",
      "iteration no:24\n",
      "iteration no:25\n",
      "iteration no:26\n",
      "iteration no:27\n",
      "iteration no:28\n",
      "iteration no:29\n",
      "iteration no:30\n",
      "iteration no:31\n",
      "iteration no:32\n",
      "iteration no:33\n",
      "iteration no:34\n",
      "iteration no:35\n",
      "iteration no:36\n",
      "iteration no:37\n",
      "iteration no:38\n",
      "iteration no:39\n",
      "iteration no:40\n",
      "iteration no:41\n",
      "iteration no:42\n",
      "root is (delta = 1e-15) : 3.732050807568877193\n"
     ]
    }
   ],
   "source": [
    "root_3 = hybrid_root_find(f, 2.0, 4.0, 1e-15)\n",
    "\n",
    "print('root is (delta = 1e-15) : %.18f'%root_3)"
   ]
  },
  {
   "cell_type": "markdown",
   "metadata": {},
   "source": [
    "###### Now, let's compare with the secant method"
   ]
  },
  {
   "cell_type": "code",
   "execution_count": 31,
   "metadata": {
    "collapsed": true
   },
   "outputs": [],
   "source": [
    "# implementation of the secant method\n",
    "\n",
    "def secant(f, a, b, eps, verbose=True):\n",
    "    \"\"\"\n",
    "    implementation of the secant method\n",
    "    f = input function\n",
    "    [a,b] = float, interval to search for root; a,b must bracket the root\n",
    "    eps = float, required absolute accuracy of the root\n",
    "    verbose = logical, if True print results of intermediate iterations\n",
    "    \"\"\"\n",
    "    if f(a)*f(b)>0:\n",
    "        raise ValueError(\"function has the same sign on both ends of the interval: input interval must bracket a root!\")\n",
    "\n",
    "    x = a; xold = b; niter = 0\n",
    "    # carry out Newton's method iterations\n",
    "    while f(x) != 0. and np.abs(x-xold) > eps:\n",
    "        xold, x = x, x - f(x)*(x-xold) / (f(x)-f(xold))\n",
    "        niter += 1\n",
    "        if verbose: \n",
    "            print(\"niter = %d  xroot = %.18f\"%(niter, x))\n",
    "    return x"
   ]
  },
  {
   "cell_type": "markdown",
   "metadata": {},
   "source": [
    "Find again the roots with errors $10^{-5}, 10^{-10}, 10^{-15}$"
   ]
  },
  {
   "cell_type": "code",
   "execution_count": 32,
   "metadata": {
    "collapsed": false
   },
   "outputs": [
    {
     "name": "stdout",
     "output_type": "stream",
     "text": [
      "niter = 1  xroot = 3.500000000000000000\n",
      "niter = 2  xroot = 4.000000000000000000\n",
      "niter = 3  xroot = 3.714285714285714413\n",
      "niter = 4  xroot = 3.730769230769230838\n",
      "niter = 5  xroot = 3.732057416267942518\n",
      "niter = 6  xroot = 3.732050805123027004\n",
      "root is (error 1e-5) is: 3.732050805123027004\n"
     ]
    }
   ],
   "source": [
    "def f(x):\n",
    "    func = x**2 -4*x +1\n",
    "    return func\n",
    "\n",
    "root_1= secant(f, 2.0, 4.0, 1e-5)\n",
    "\n",
    "print('root is (error 1e-5) is: %.18f'%root_1)"
   ]
  },
  {
   "cell_type": "code",
   "execution_count": 33,
   "metadata": {
    "collapsed": false
   },
   "outputs": [
    {
     "name": "stdout",
     "output_type": "stream",
     "text": [
      "niter = 1  xroot = 3.500000000000000000\n",
      "niter = 2  xroot = 4.000000000000000000\n",
      "niter = 3  xroot = 3.714285714285714413\n",
      "niter = 4  xroot = 3.730769230769230838\n",
      "niter = 5  xroot = 3.732057416267942518\n",
      "niter = 6  xroot = 3.732050805123027004\n",
      "niter = 7  xroot = 3.732050807568872308\n",
      "niter = 8  xroot = 3.732050807568877637\n",
      "root is (error 1e-10) is: 3.732050807568877637\n"
     ]
    }
   ],
   "source": [
    "root_2= secant(f, 2.0, 4.0, 1e-10)\n",
    "\n",
    "print('root is (error 1e-10) is: %.18f'%root_2)"
   ]
  },
  {
   "cell_type": "code",
   "execution_count": 34,
   "metadata": {
    "collapsed": false
   },
   "outputs": [
    {
     "name": "stdout",
     "output_type": "stream",
     "text": [
      "niter = 1  xroot = 3.500000000000000000\n",
      "niter = 2  xroot = 4.000000000000000000\n",
      "niter = 3  xroot = 3.714285714285714413\n",
      "niter = 4  xroot = 3.730769230769230838\n",
      "niter = 5  xroot = 3.732057416267942518\n",
      "niter = 6  xroot = 3.732050805123027004\n",
      "niter = 7  xroot = 3.732050807568872308\n",
      "niter = 8  xroot = 3.732050807568877637\n",
      "niter = 9  xroot = 3.732050807568877193\n",
      "root is (error 1e-15) is: 3.732050807568877193\n"
     ]
    }
   ],
   "source": [
    "root_3= secant(f, 2.0, 4.0, 1e-15)\n",
    "\n",
    "print('root is (error 1e-15) is: %.18f'%root_3)"
   ]
  },
  {
   "cell_type": "markdown",
   "metadata": {},
   "source": [
    "We see that in the secant method is faster; but the hybrid method can be valuable when dealing with more complicated functions for the reasons described in the prompt.\n",
    "\n"
   ]
  },
  {
   "cell_type": "markdown",
   "metadata": {},
   "source": [
    "The analytic solution is $2+\\sqrt{3}$, or:"
   ]
  },
  {
   "cell_type": "code",
   "execution_count": 35,
   "metadata": {
    "collapsed": false
   },
   "outputs": [
    {
     "name": "stdout",
     "output_type": "stream",
     "text": [
      "Analytic solution is: 3.732050807568877193\n"
     ]
    }
   ],
   "source": [
    "anal = 2.0 + np.sqrt(3.0)\n",
    "print(\"Analytic solution is: %.18f\" %anal)"
   ]
  },
  {
   "cell_type": "markdown",
   "metadata": {
    "collapsed": true
   },
   "source": [
    "### Problem 3. Background. \n",
    "\n",
    "In practice, root finding routines are used to solve equations that arise in modeling of physical systems. One common type of equations that requires numerical solution is implicit equations, where $x$ enters the equation in a way, which makes it impossible to solve for $x$ algebraically. This exercise deals with an example of such equation. I will explain where this equation comes from later, but if you are curious, it arises during solution of the Riemann problem at cell interfaces (see eq 5.6 here.) in a wide class of computational fluid dynamics codes.\n",
    "(10 points) Applying your root finding routine from exercise 2: Solve the following equation for $x$: \n",
    "$$\n",
    "x = \\frac{p_L}{p_R}\\,\\left(1+\\frac{\\gamma-1}{2a_L}\\left[u_L-u_R -\\frac{a_R}{\\gamma}\\frac{x-1}{\\sqrt{\\frac{\\gamma+1}{2\\gamma}(x-1)+1}}\\right]\\right)^{\\frac{2\\gamma}{\\gamma-1}} \\quad(1)\n",
    "$$ \n",
    "\n",
    "for the following values of constants: $\\gamma=1.4$, $\\rho_L=1$, $p_L=1$, $u_L=0.75$, and $\\rho_R=0.125$, $p_R=0.1$, $u_R=0$, $a_L=\\sqrt{\\gamma p_L/\\rho_L}$ and $a_R=\\sqrt{\\gamma p_R/\\rho_R}$.\n",
    "\n",
    "### Solution"
   ]
  },
  {
   "cell_type": "markdown",
   "metadata": {},
   "source": [
    "In order to solve the above equation I will define the function (in order not to confuse with the above, let's name it $R(x)$ (R from Riemann):\n",
    "\n",
    "\\begin{equation}\n",
    "R(x) = \\frac{p_L}{p_R}\\,\\left(1+\\frac{\\gamma-1}{2a_L}\\left[u_L-u_R -\\frac{a_R}{\\gamma}\\frac{x-1}{\\sqrt{\\frac{\\gamma+1}{2\\gamma}(x-1)+1}}\\right]\\right)^{\\frac{2\\gamma}{\\gamma-1}} - x \\quad (2)\n",
    "\\end{equation}\n",
    "\n",
    "For the values of constant given above. Then the solution of (1) is equivalent to the solution of $R(x) = 0$.\n",
    "\n",
    "So, let's define constants and the function:"
   ]
  },
  {
   "cell_type": "code",
   "execution_count": 36,
   "metadata": {
    "collapsed": false
   },
   "outputs": [],
   "source": [
    "#======================================================================================\n",
    "#Constants in this section - in order to be flexible the change of their numerical value\n",
    "\n",
    "gamma = 1.4 #the gamma parameter\n",
    "\n",
    "rho_L = 1.0\n",
    "\n",
    "p_L = 1.0\n",
    "\n",
    "u_L = 0.75\n",
    "\n",
    "rho_R = 0.125\n",
    "\n",
    "p_R = 0.1\n",
    "\n",
    "u_R = 0.0\n",
    "\n",
    "a_L = np.sqrt(gamma*p_L/rho_L)\n",
    "\n",
    "a_R = np.sqrt(gamma*p_R/rho_R)\n",
    "\n",
    "#========================================================================================\n",
    "#========================================================================================\n",
    "#========================================================================================\n",
    "\n",
    "# Let's define the function now\n",
    "\n",
    "def R(x):\n",
    "    \n",
    "    \"\"\"\n",
    "    This function calculates and returns the \"Riemann\" function, as defined in eq. (2) above.\n",
    "    The parameters needed are global (i.e. defined above in the main program) and we can change their numerical value \n",
    "    \"\"\"\n",
    "    \n",
    "    #Let's split the total function into a few distinctive parts \n",
    "    \n",
    "    #==========================================================\n",
    "    # First the square root part\n",
    "    squar_root = np.sqrt(((gamma + 1.0)/(2.0*gamma))*(x - 1.0) + 1.0)\n",
    "    \n",
    "    # Now the quantity in the brackets []\n",
    "    \n",
    "    quant_1 = u_L - u_R - (a_R/gamma)*(x - 1.0)/squar_root\n",
    "    \n",
    "    # Now the quantity inside the parentheses () and the exponential factor\n",
    "    \n",
    "    quant_2 = (1.0 + ((gamma-1.0)/(2.0*a_L))*quant_1)**(2.0*gamma/(gamma - 1.0))\n",
    "    \n",
    "    #Now we can easily give the whole function\n",
    "    \n",
    "    R_function = (p_L/p_R)*quant_2 - x\n",
    "    \n",
    "    return R_function\n",
    "    "
   ]
  },
  {
   "cell_type": "markdown",
   "metadata": {},
   "source": [
    "Now, in order to solve the equation is good to have a sence about where is the root of the function.  Because the function is not analytic, it's not easy to find by \"inspection\" a range where the root is included. \n",
    "\n",
    "So, I will plot the function, say in the $x$ interval from $[0,10]$ to see if there is a root in that interval."
   ]
  },
  {
   "cell_type": "code",
   "execution_count": 37,
   "metadata": {
    "collapsed": false
   },
   "outputs": [
    {
     "data": {
      "image/png": "[encoded data removed]",
      "text/plain": [
       "<matplotlib.figure.Figure at 0x112069fd0>"
      ]
     },
     "metadata": {},
     "output_type": "display_data"
    }
   ],
   "source": [
    "import matplotlib\n",
    "import matplotlib.pyplot as plt\n",
    "from code.plot_utils import plot_pretty\n",
    "%matplotlib inline\n",
    "\n",
    "x_vals = np.linspace(0.0,10.0,1000)\n",
    "R_vals = R(x_vals)\n",
    "\n",
    "plot_pretty()\n",
    "\n",
    "fig = plt.figure(figsize = (5,5))\n",
    "\n",
    "plt.plot(x_vals,R_vals, c='r', linewidth=2.0)\n",
    "plt.plot(x_vals,np.zeros(1000), c='b', ls='--')\n",
    "\n",
    "plt.xlim(0.0,10.0)\n",
    "plt.xlabel(\"$x$\", fontsize=14)\n",
    "plt.ylabel(\"$R(x)$\", fontsize=14)\n",
    "\n",
    "\n",
    "\n",
    "plt.show()"
   ]
  },
  {
   "cell_type": "markdown",
   "metadata": {},
   "source": [
    "From the above we see that the root is somewhere between 4 and 6. We'll search for the root in this interval."
   ]
  },
  {
   "cell_type": "code",
   "execution_count": 38,
   "metadata": {
    "collapsed": false
   },
   "outputs": [
    {
     "name": "stdout",
     "output_type": "stream",
     "text": [
      "iteration no:1\n",
      "iteration no:2\n",
      "iteration no:3\n",
      "iteration no:4\n",
      "iteration no:5\n",
      "iteration no:6\n",
      "iteration no:7\n",
      "iteration no:8\n",
      "iteration no:9\n",
      "iteration no:10\n",
      "iteration no:11\n",
      "iteration no:12\n",
      "iteration no:13\n",
      "iteration no:14\n",
      "iteration no:15\n",
      "iteration no:16\n",
      "iteration no:17\n",
      "Root of the \"Riemann\" function x=: 4.662935668398556111\n"
     ]
    }
   ],
   "source": [
    "root_riemann = hybrid_root_find(R, 4.0, 6.0, 1e-15)\n",
    "\n",
    "print('Root of the \"Riemann\" function x=: %.18f'%root_riemann)\n"
   ]
  },
  {
   "cell_type": "code",
   "execution_count": null,
   "metadata": {
    "collapsed": true
   },
   "outputs": [],
   "source": []
  }
 ],
 "metadata": {
  "kernelspec": {
   "display_name": "Python 2",
   "language": "python",
   "name": "python2"
  },
  "language_info": {
   "codemirror_mode": {
    "name": "ipython",
    "version": 2
   },
   "file_extension": ".py",
   "mimetype": "text/x-python",
   "name": "python",
   "nbconvert_exporter": "python",
   "pygments_lexer": "ipython2",
   "version": "2.7.13"
  }
 },
 "nbformat": 4,
 "nbformat_minor": 2
}
